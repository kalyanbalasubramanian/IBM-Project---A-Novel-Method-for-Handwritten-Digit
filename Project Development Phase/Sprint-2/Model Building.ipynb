{
 "cells": [
  {
   "cell_type": "markdown",
   "id": "59f34d0c",
   "metadata": {},
   "source": [
    "## _Sprint - 2: Model Building_"
   ]
  },
  {
   "cell_type": "markdown",
   "id": "3da8957e",
   "metadata": {},
   "source": [
    "### _Team-ID: PNT2022TMID21878_\n"
   ]
  },
  {
   "cell_type": "markdown",
   "id": "95b37c9c",
   "metadata": {},
   "source": [
    "#### Adding CNN"
   ]
  },
  {
   "cell_type": "code",
   "execution_count": 11,
   "id": "6a52c24f",
   "metadata": {},
   "outputs": [],
   "source": [
    "model = Sequential()"
   ]
  },
  {
   "cell_type": "code",
   "execution_count": 12,
   "id": "44df33f7",
   "metadata": {},
   "outputs": [],
   "source": [
    "model.add(Conv2D(32, (3,3),input_shape=(28, 28, 1), activation = 'relu'))\n",
    "model.add(MaxPooling2D(pool_size=(2, 2)))"
   ]
  },
  {
   "cell_type": "code",
   "execution_count": 13,
   "id": "71f612e9",
   "metadata": {},
   "outputs": [],
   "source": [
    "model.add(Conv2D(64,(3,3), activation = 'relu'))\n",
    "model.add(Conv2D(64,(3,3), activation = 'relu'))"
   ]
  },
  {
   "cell_type": "code",
   "execution_count": 14,
   "id": "378f5ac6",
   "metadata": {},
   "outputs": [],
   "source": [
    "model.add(Conv2D(32,(3,3), activation = 'relu'))\n",
    "model.add(MaxPooling2D(pool_size=(2, 2)))"
   ]
  },
  {
   "cell_type": "code",
   "execution_count": 15,
   "id": "f046e457",
   "metadata": {},
   "outputs": [],
   "source": [
    "model.add(Flatten())\n",
    "model.add(Dense(10, activation = 'softmax'))"
   ]
  },
  {
   "cell_type": "code",
   "execution_count": 16,
   "id": "5a4b3380",
   "metadata": {},
   "outputs": [
    {
     "name": "stdout",
     "output_type": "stream",
     "text": [
      "Model: \"sequential\"\n",
      "_________________________________________________________________\n",
      " Layer (type)                Output Shape              Param #   \n",
      "=================================================================\n",
      " conv2d (Conv2D)             (None, 26, 26, 32)        320       \n",
      "                                                                 \n",
      " max_pooling2d (MaxPooling2D  (None, 13, 13, 32)       0         \n",
      " )                                                               \n",
      "                                                                 \n",
      " conv2d_1 (Conv2D)           (None, 11, 11, 64)        18496     \n",
      "                                                                 \n",
      " conv2d_2 (Conv2D)           (None, 9, 9, 64)          36928     \n",
      "                                                                 \n",
      " conv2d_3 (Conv2D)           (None, 7, 7, 32)          18464     \n",
      "                                                                 \n",
      " max_pooling2d_1 (MaxPooling  (None, 3, 3, 32)         0         \n",
      " 2D)                                                             \n",
      "                                                                 \n",
      " flatten (Flatten)           (None, 288)               0         \n",
      "                                                                 \n",
      " dense (Dense)               (None, 10)                2890      \n",
      "                                                                 \n",
      "=================================================================\n",
      "Total params: 77,098\n",
      "Trainable params: 77,098\n",
      "Non-trainable params: 0\n",
      "_________________________________________________________________\n"
     ]
    }
   ],
   "source": [
    "model.summary()"
   ]
  },
  {
   "cell_type": "markdown",
   "id": "a4fee8cc",
   "metadata": {},
   "source": [
    "#### Compiling the Model"
   ]
  },
  {
   "cell_type": "code",
   "execution_count": 17,
   "id": "f92122d9",
   "metadata": {},
   "outputs": [],
   "source": [
    "model.compile(loss=keras.losses.categorical_crossentropy, optimizer=keras.optimizers.Adam(), metrics=['accuracy'])"
   ]
  },
  {
   "cell_type": "markdown",
   "id": "351d5143",
   "metadata": {},
   "source": [
    "#### Train the Model"
   ]
  },
  {
   "cell_type": "code",
   "execution_count": 18,
   "id": "45129d5d",
   "metadata": {},
   "outputs": [
    {
     "name": "stdout",
     "output_type": "stream",
     "text": [
      "Epoch 1/5\n",
      "500/500 [==============================] - 52s 95ms/step - loss: 0.5196 - accuracy: 0.8995 - val_loss: 0.1107 - val_accuracy: 0.9653\n",
      "Epoch 2/5\n",
      "500/500 [==============================] - 47s 95ms/step - loss: 0.0870 - accuracy: 0.9734 - val_loss: 0.0671 - val_accuracy: 0.9792\n",
      "Epoch 3/5\n",
      "500/500 [==============================] - 48s 95ms/step - loss: 0.0584 - accuracy: 0.9822 - val_loss: 0.0560 - val_accuracy: 0.9824\n",
      "Epoch 4/5\n",
      "500/500 [==============================] - 47s 94ms/step - loss: 0.0411 - accuracy: 0.9872 - val_loss: 0.0526 - val_accuracy: 0.9844\n",
      "Epoch 5/5\n",
      "500/500 [==============================] - 47s 94ms/step - loss: 0.0333 - accuracy: 0.9889 - val_loss: 0.0468 - val_accuracy: 0.9862\n"
     ]
    },
    {
     "data": {
      "text/plain": [
       "<keras.callbacks.History at 0x22c71be7c10>"
      ]
     },
     "execution_count": 18,
     "metadata": {},
     "output_type": "execute_result"
    }
   ],
   "source": [
    "model.fit(x_train, y_train, validation_data = (x_test, y_test), epochs = 5, batch_size = 120)"
   ]
  },
  {
   "cell_type": "markdown",
   "id": "ac7db997",
   "metadata": {},
   "source": [
    "#### Testing the Model"
   ]
  },
  {
   "cell_type": "code",
   "execution_count": 19,
   "id": "1d2b5908",
   "metadata": {},
   "outputs": [
    {
     "name": "stdout",
     "output_type": "stream",
     "text": [
      "1/1 [==============================] - 0s 201ms/step\n"
     ]
    },
    {
     "data": {
      "text/plain": [
       "array([[1.11026932e-09, 2.98503638e-10, 1.26344025e-06, 6.11706952e-08,\n",
       "        1.96266597e-11, 2.28685289e-13, 4.66816103e-17, 9.99998569e-01,\n",
       "        9.76244308e-10, 2.05415400e-08],\n",
       "       [3.67506374e-07, 2.32599340e-09, 9.99999285e-01, 4.96835746e-08,\n",
       "        7.95300821e-08, 3.29716045e-14, 2.11452928e-07, 1.03835430e-11,\n",
       "        2.24576606e-08, 9.89979583e-15],\n",
       "       [2.30588681e-09, 9.99982476e-01, 6.11992050e-07, 1.78760062e-09,\n",
       "        1.09022158e-05, 5.85679061e-09, 6.53236754e-08, 4.80457720e-06,\n",
       "        1.11666259e-06, 2.63822280e-08],\n",
       "       [9.99245286e-01, 3.13190689e-11, 2.17146408e-07, 5.88818827e-10,\n",
       "        4.96859741e-07, 1.66417323e-07, 7.26917526e-04, 3.00033487e-09,\n",
       "        1.11551535e-05, 1.58478979e-05]], dtype=float32)"
      ]
     },
     "execution_count": 19,
     "metadata": {},
     "output_type": "execute_result"
    }
   ],
   "source": [
    "prediction = model.predict(x_test[:4])\n",
    "prediction"
   ]
  },
  {
   "cell_type": "code",
   "execution_count": 20,
   "id": "c3bcbdda",
   "metadata": {},
   "outputs": [
    {
     "data": {
      "text/plain": [
       "array([7, 2, 1, 0], dtype=int64)"
      ]
     },
     "execution_count": 20,
     "metadata": {},
     "output_type": "execute_result"
    }
   ],
   "source": [
    "np.argmax(prediction, axis=1)"
   ]
  },
  {
   "cell_type": "markdown",
   "id": "2f87123d",
   "metadata": {},
   "source": [
    "#### Observing the Metrics"
   ]
  },
  {
   "cell_type": "code",
   "execution_count": 21,
   "id": "de6c3759",
   "metadata": {},
   "outputs": [
    {
     "name": "stdout",
     "output_type": "stream",
     "text": [
      "METRICS\n",
      " Loss: 0.047\n",
      " Accuracy: 0.986\n"
     ]
    }
   ],
   "source": [
    "metrics = model.evaluate(x_test, y_test, verbose=0)\n",
    "print('METRICS\\n Loss: {:0.3f}\\n Accuracy: {:0.3f}'.format(metrics[0],metrics[1]))"
   ]
  },
  {
   "cell_type": "markdown",
   "id": "7cc7e2c9",
   "metadata": {},
   "source": [
    "#### Saving the Model"
   ]
  },
  {
   "cell_type": "code",
   "execution_count": 22,
   "id": "6022055e",
   "metadata": {},
   "outputs": [],
   "source": [
    "model.save('models/mnistCNN.h5')"
   ]
  }
 ],
 "metadata": {
  "kernelspec": {
   "display_name": "Python 3 (ipykernel)",
   "language": "python",
   "name": "python3"
  },
  "language_info": {
   "codemirror_mode": {
    "name": "ipython",
    "version": 3
   },
   "file_extension": ".py",
   "mimetype": "text/x-python",
   "name": "python",
   "nbconvert_exporter": "python",
   "pygments_lexer": "ipython3",
   "version": "3.9.12"
  }
 },
 "nbformat": 4,
 "nbformat_minor": 5
}
